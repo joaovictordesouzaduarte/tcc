{
 "cells": [
  {
   "cell_type": "markdown",
   "metadata": {},
   "source": [
    "#### **0 Imports**"
   ]
  },
  {
   "cell_type": "code",
   "execution_count": null,
   "metadata": {},
   "outputs": [],
   "source": [
    "import pandas as pd\n",
    "import numpy as np\n",
    "import matplotlib.pyplot as plt\n",
    "from collections import OrderedDict\n",
    "from statsmodels.tsa.arima_model import ARMA\n",
    "import seaborn as sns\n",
    "from statsmodels.graphics.tsaplots import plot_acf, plot_pacf\n",
    "from statsmodels.tsa.stattools import adfuller, kpss, acf, pacf\n",
    "from statsmodels.stats.diagnostic import acorr_ljungbox, het_arch, het_breuschpagan\n",
    "from statsmodels.tsa.arima.model import ARIMA\n",
    "import matplotlib.pyplot as plt\n",
    "from arch import arch_model\n",
    "from statsmodels.tsa.statespace.sarimax import SARIMAX\n",
    "import warnings\n",
    "import pylab\n",
    "from statsmodels.api import qqplot\n",
    "import statsmodels.api as sm\n",
    "from statsmodels.tsa.ar_model import AutoReg\n",
    "import scipy.stats as stats\n",
    "warnings.filterwarnings('ignore')"
   ]
  },
  {
   "cell_type": "code",
   "execution_count": null,
   "metadata": {},
   "outputs": [],
   "source": [
    "def plot_acf_and_pacf(serie, nlags=30):\n",
    "    lag_acf = acf(serie, nlags=nlags)\n",
    "    lag_pacf = pacf(serie, nlags = nlags, method='ols')\n",
    "    \n",
    "    #Plot ACF\n",
    "    plt.rcParams[\"figure.figsize\"] = (15,8)\n",
    "    plt.subplot(121) \n",
    "    plt.plot(lag_acf)\n",
    "    plt.axhline(y=0,linestyle='--',color='gray')\n",
    "    plt.axhline(y=-1.96/np.sqrt(len(serie)),linestyle='--',color='gray')\n",
    "    plt.axhline(y=1.96/np.sqrt(len(serie)),linestyle='--',color='gray')\n",
    "    plt.title('Autocorrelation Function')\n",
    "    \n",
    "    \n",
    "    #Plot PACF\n",
    "    plt.subplot(122)\n",
    "    plt.plot(lag_pacf)\n",
    "    plt.axhline(y=0,linestyle='--',color='gray')\n",
    "    plt.axhline(y=-1.96/np.sqrt(len(serie)),linestyle='--',color='gray')\n",
    "    plt.axhline(y=1.96/np.sqrt(len(serie)),linestyle='--',color='gray') \n",
    "    plt.title('Partial Autocorrelation Function') \n",
    "    plt.tight_layout()"
   ]
  },
  {
   "cell_type": "code",
   "execution_count": null,
   "metadata": {},
   "outputs": [],
   "source": [
    "##pd.set_option('display.float_format', lambda x: '%.2f' % x)\n",
    "def jupyter_settings():\n",
    "    %matplotlib inline\n",
    "    %pylab inline\n",
    "    \n",
    "    plt.style.use( 'ggplot')\n",
    "    plt.rcParams['figure.figsize'] = [13, 6]\n",
    "    plt.rcParams['font.size'] = 20\n",
    "    \n",
    "    #display( HTML( '<style>.container { width:100% !important; }</style>') )\n",
    "    pd.options.display.max_columns = None\n",
    "    pd.options.display.max_rows = None\n",
    "    pd.set_option( 'display.expand_frame_repr', False )\n",
    "    \n",
    "    sns.set()\n",
    "    \n",
    "jupyter_settings()"
   ]
  },
  {
   "cell_type": "markdown",
   "metadata": {},
   "source": [
    "#### **1.0 Load Data and Treatment**"
   ]
  },
  {
   "cell_type": "code",
   "execution_count": null,
   "metadata": {},
   "outputs": [],
   "source": [
    "data = pd.read_excel('./data/STP-20220616133411767.xlsx')\n",
    "data.shape"
   ]
  },
  {
   "cell_type": "code",
   "execution_count": null,
   "metadata": {},
   "outputs": [],
   "source": [
    "data.head(15)"
   ]
  },
  {
   "cell_type": "markdown",
   "metadata": {},
   "source": [
    "###### **1.2 Rename columns and rows**"
   ]
  },
  {
   "cell_type": "code",
   "execution_count": null,
   "metadata": {},
   "outputs": [],
   "source": [
    "data = data.rename({'data': 'value'}, axis=1)"
   ]
  },
  {
   "cell_type": "markdown",
   "metadata": {},
   "source": [
    "###### **1.3 Data types**"
   ]
  },
  {
   "cell_type": "code",
   "execution_count": null,
   "metadata": {},
   "outputs": [],
   "source": [
    "data.dtypes"
   ]
  },
  {
   "cell_type": "markdown",
   "metadata": {},
   "source": [
    "###### **1.4 Check NaN**"
   ]
  },
  {
   "cell_type": "code",
   "execution_count": null,
   "metadata": {},
   "outputs": [],
   "source": [
    "data.isna().sum()"
   ]
  },
  {
   "cell_type": "markdown",
   "metadata": {},
   "source": [
    "###### **1.5 Numerical Analysis**"
   ]
  },
  {
   "cell_type": "code",
   "execution_count": null,
   "metadata": {},
   "outputs": [],
   "source": [
    "num_attributes = data.select_dtypes(include=['float'])"
   ]
  },
  {
   "cell_type": "code",
   "execution_count": null,
   "metadata": {},
   "outputs": [],
   "source": [
    "# Central tendency - mean, median\n",
    "#mean\n",
    "ct1 = pd.DataFrame(num_attributes.apply(np.mean)).T\n",
    "#median\n",
    "ct2 = pd.DataFrame(num_attributes.apply(np.median)).T\n",
    "\n",
    "#Dispersion - desvio, minimo, maximo, range, skew, kutosi\n",
    "\n",
    "d1 = pd.DataFrame(num_attributes.apply(np.std)).T\n",
    "\n",
    "d2 = pd.DataFrame(num_attributes.apply(np.min)).T\n",
    "\n",
    "d3 = pd.DataFrame(num_attributes.apply(np.max)).T\n",
    "\n",
    "d4 = pd.DataFrame(num_attributes.apply(lambda x: x.max() - x.min())).T\n",
    "\n",
    "d5 = pd.DataFrame(num_attributes.apply(lambda x : x.skew())).T\n",
    "\n",
    "d6 = pd.DataFrame(num_attributes.apply(lambda x: x.kurtosis())).T\n",
    "\n",
    "#concat \n",
    "h = pd.concat([d2,d3,d4,ct1,ct2,d1,d5,d6]).T.reset_index()\n",
    "h.columns = ['attributes', 'min', 'max', 'range', 'mean', 'median', 'std', 'skew', 'kurtosis'] "
   ]
  },
  {
   "cell_type": "code",
   "execution_count": null,
   "metadata": {},
   "outputs": [],
   "source": [
    "h"
   ]
  },
  {
   "cell_type": "markdown",
   "metadata": {},
   "source": [
    "#### **2.0 Data Visualization e Testes**"
   ]
  },
  {
   "cell_type": "code",
   "execution_count": null,
   "metadata": {
    "scrolled": false
   },
   "outputs": [],
   "source": [
    "df2 = data.copy()\n",
    "df2 = df2.loc[(df2['date'] > '1994-05-01') & (df2['date'] < '2021-12-31')]\n",
    "df2.head(10)"
   ]
  },
  {
   "cell_type": "code",
   "execution_count": null,
   "metadata": {
    "scrolled": false
   },
   "outputs": [],
   "source": [
    "sns.lineplot(x = 'date', y='value', data=df2)\n",
    "plt.title('Índice da taxa de câmbio real efetiva (IPCA) - Jun/1994=100')\n",
    "plt.ylabel('Price')\n",
    "plt.xlabel('Data')"
   ]
  },
  {
   "cell_type": "code",
   "execution_count": null,
   "metadata": {},
   "outputs": [],
   "source": [
    "df2 = df2.loc[(df2['date'] > '2008-01-01') & (df2['date'] < '2021-12-31')]\n",
    "sns.lineplot(x = 'date', y='value', data=df2)\n",
    "plt.title('Índice da taxa de câmbio real efetiva (IPCA) - Jun/1994=100')\n",
    "plt.ylabel('Price')\n",
    "plt.xlabel('Data')"
   ]
  },
  {
   "cell_type": "code",
   "execution_count": null,
   "metadata": {},
   "outputs": [],
   "source": [
    "plot_acf_and_pacf(df2['value'], nlags=60)"
   ]
  },
  {
   "cell_type": "markdown",
   "metadata": {},
   "source": [
    "###### **2.1 ADF Test - In nivel**"
   ]
  },
  {
   "cell_type": "code",
   "execution_count": null,
   "metadata": {},
   "outputs": [],
   "source": [
    "def adf_test(timeseries):\n",
    "    print(\"Results of Dickey-Fuller Test:\")\n",
    "    dftest = adfuller(timeseries, autolag=\"AIC\")\n",
    "    dfoutput = pd.Series(\n",
    "        dftest[0:4],\n",
    "        index=[\n",
    "            \"Test Statistic\",\n",
    "            \"p-value\",\n",
    "            \"#Lags Used\",\n",
    "            \"Number of Observations Used\",\n",
    "        ],\n",
    "    )\n",
    "    for key, value in dftest[4].items():\n",
    "        dfoutput[\"Critical Value (%s)\" % key] = value\n",
    "    print(dfoutput)"
   ]
  },
  {
   "cell_type": "code",
   "execution_count": null,
   "metadata": {},
   "outputs": [],
   "source": [
    "adf_test(df2['value'])"
   ]
  },
  {
   "cell_type": "markdown",
   "metadata": {},
   "source": [
    "###### **2.2 KPSS - In nivel**"
   ]
  },
  {
   "cell_type": "code",
   "execution_count": null,
   "metadata": {},
   "outputs": [],
   "source": [
    "def kpss_test(timeseries):\n",
    "    print(\"Results of KPSS Test:\")\n",
    "    kpsstest = kpss(timeseries, regression=\"c\", nlags=\"auto\")\n",
    "    kpss_output = pd.Series(\n",
    "        kpsstest[0:3], index=[\"Test Statistic\", \"p-value\", \"Lags Used\"]\n",
    "    )\n",
    "    for key, value in kpsstest[3].items():\n",
    "        kpss_output[\"Critical Value (%s)\" % key] = value\n",
    "    print(kpss_output)"
   ]
  },
  {
   "cell_type": "code",
   "execution_count": null,
   "metadata": {},
   "outputs": [],
   "source": [
    "kpss_test(df2['value'])"
   ]
  },
  {
   "cell_type": "markdown",
   "metadata": {},
   "source": [
    "#### **3.0 Retorno e modelagem**"
   ]
  },
  {
   "cell_type": "code",
   "execution_count": null,
   "metadata": {},
   "outputs": [],
   "source": [
    "df3 = df2.copy()"
   ]
  },
  {
   "cell_type": "code",
   "execution_count": null,
   "metadata": {},
   "outputs": [],
   "source": [
    "#Retornos\n",
    "df3['retornos'] = df3['value'].pct_change(periods=1).fillna(0)\n",
    "df3['retornos_quadrados'] = df3['retornos'] ** 2\n",
    "media = df3['retornos'].mean()\n",
    "\n",
    "#Plot series in 1° diff\n",
    "sns.lineplot(x = 'date', y='retornos', data=df3)\n",
    "sns.lineplot(x = 'date', y=media, data=df3)\n",
    "\n",
    "plt.title('Retorno do Índice da taxa de câmbio real efetiva')\n",
    "plt.xlabel('Data')\n",
    "ax.legend()\n"
   ]
  },
  {
   "cell_type": "code",
   "execution_count": null,
   "metadata": {},
   "outputs": [],
   "source": [
    "#Retornos ao quadrado\n",
    "sns.lineplot(x = 'date', y='retornos_quadrados', data=df3)\n",
    "# sns.lineplot(x = 'date', y='zero', data=df3)\n",
    "\n",
    "plt.title('Retornos quadrados do Índice da taxa de câmbio real efetiva')\n",
    "plt.xlabel('Data')\n",
    "plt.ylabel('Retornos ao quadrado')"
   ]
  },
  {
   "cell_type": "markdown",
   "metadata": {},
   "source": [
    "##### **3.1 Testes dos retornos**"
   ]
  },
  {
   "cell_type": "code",
   "execution_count": null,
   "metadata": {},
   "outputs": [],
   "source": [
    "df4 = df3.dropna()"
   ]
  },
  {
   "cell_type": "code",
   "execution_count": null,
   "metadata": {},
   "outputs": [],
   "source": [
    "adf_test(df4['retornos'])"
   ]
  },
  {
   "cell_type": "code",
   "execution_count": null,
   "metadata": {},
   "outputs": [],
   "source": [
    "kpss_test(df4['retornos'])"
   ]
  },
  {
   "cell_type": "code",
   "execution_count": null,
   "metadata": {
    "scrolled": false
   },
   "outputs": [],
   "source": [
    "plot_acf_and_pacf(df4['retornos'])"
   ]
  },
  {
   "cell_type": "code",
   "execution_count": null,
   "metadata": {},
   "outputs": [],
   "source": [
    "plot_acf_and_pacf(df4['retornos'] ** 2)"
   ]
  },
  {
   "cell_type": "code",
   "execution_count": null,
   "metadata": {},
   "outputs": [],
   "source": [
    "acorr_ljungbox(df4['retornos'], return_df = True)"
   ]
  },
  {
   "cell_type": "markdown",
   "metadata": {},
   "source": [
    "##### 3.2 Modelagem de volatilidade"
   ]
  },
  {
   "cell_type": "code",
   "execution_count": null,
   "metadata": {},
   "outputs": [],
   "source": [
    "#Série estacionária\n",
    "adfuller(df3['retornos'])"
   ]
  },
  {
   "cell_type": "markdown",
   "metadata": {},
   "source": [
    "##### 3.2.1 ARMA(1,1)"
   ]
  },
  {
   "cell_type": "code",
   "execution_count": null,
   "metadata": {},
   "outputs": [],
   "source": [
    "model_11 = SARIMAX(df3['retornos'], order=(1,0,1))\n",
    "model_results_11 = model_11.fit()\n",
    "model_results_11.summary()"
   ]
  },
  {
   "cell_type": "markdown",
   "metadata": {},
   "source": [
    "##### 3.2.2 ARMA(2,2)"
   ]
  },
  {
   "cell_type": "code",
   "execution_count": null,
   "metadata": {},
   "outputs": [],
   "source": [
    "model = SARIMAX(df3['retornos'], order=(2,0,2))\n",
    "model_results = model.fit()\n",
    "model_results.summary()"
   ]
  },
  {
   "cell_type": "markdown",
   "metadata": {},
   "source": [
    "##### 3.2.3 ARMA(3,3)"
   ]
  },
  {
   "cell_type": "code",
   "execution_count": null,
   "metadata": {},
   "outputs": [],
   "source": [
    "model_arma_33 = SARIMAX(df3['retornos'], order=(3,0,3))\n",
    "model_results_arma_33 = model_arma_33.fit()\n",
    "model_results_arma_33.summary()"
   ]
  },
  {
   "cell_type": "markdown",
   "metadata": {},
   "source": [
    "###### 3.3.4 Testes nos resíduos do modelo ARMA(3,3)"
   ]
  },
  {
   "cell_type": "code",
   "execution_count": null,
   "metadata": {},
   "outputs": [],
   "source": [
    "arma_residuals = model_results_arma_33.resid\n",
    "plot_acf_and_pacf(arma_residuals)"
   ]
  },
  {
   "cell_type": "code",
   "execution_count": null,
   "metadata": {},
   "outputs": [],
   "source": [
    "acorr_ljungbox(arma_residuals, return_df = True, lags=[30])"
   ]
  },
  {
   "cell_type": "code",
   "execution_count": null,
   "metadata": {},
   "outputs": [],
   "source": [
    "#Teste de heterocedasticidade\n",
    "het_arch(arma_residuals)"
   ]
  },
  {
   "cell_type": "markdown",
   "metadata": {},
   "source": [
    "#### 4.0 Volatilidade"
   ]
  },
  {
   "cell_type": "markdown",
   "metadata": {},
   "source": [
    "##### 4.1 GARCH(1,1): Distribuição normal"
   ]
  },
  {
   "cell_type": "code",
   "execution_count": null,
   "metadata": {
    "scrolled": false
   },
   "outputs": [],
   "source": [
    "resid_model_11 = arch_model(arma_residuals, p=1, q=1, vol='GARCH') \n",
    "resid_model_results_11 = resid_model_11.fit(update_freq=5)\n",
    "resid_model_results_11.summary()"
   ]
  },
  {
   "cell_type": "markdown",
   "metadata": {},
   "source": [
    "##### 4.1 GARCH(2,1): Distribuição normal"
   ]
  },
  {
   "cell_type": "code",
   "execution_count": null,
   "metadata": {},
   "outputs": [],
   "source": [
    "resid_model_21 = arch_model(arma_residuals, p=2, q=1, vol='GARCH') \n",
    "resid_model_results = resid_model_21.fit(update_freq=5)\n",
    "resid_model_results.summary()"
   ]
  },
  {
   "cell_type": "markdown",
   "metadata": {},
   "source": [
    "##### 4.1 GARCH(1,2): : Distribuição normal"
   ]
  },
  {
   "cell_type": "code",
   "execution_count": null,
   "metadata": {
    "scrolled": false
   },
   "outputs": [],
   "source": [
    "resid_model = arch_model(arma_residuals, p=1, q=2, vol='GARCH') \n",
    "resid_model_results = resid_model.fit(update_freq=5)\n",
    "resid_model_results.summary()"
   ]
  },
  {
   "cell_type": "markdown",
   "metadata": {},
   "source": [
    "##### 4.1 GARCH(1,1): : Distribuição t-Student"
   ]
  },
  {
   "cell_type": "code",
   "execution_count": null,
   "metadata": {},
   "outputs": [],
   "source": [
    "resid_model_11_tstudent = arch_model(arma_residuals, p=1, q=1, vol='GARCH', dist='t') \n",
    "resid_model_results_11 = resid_model_11_tstudent.fit(update_freq=5)\n",
    "resid_model_results_11.summary()"
   ]
  },
  {
   "cell_type": "markdown",
   "metadata": {},
   "source": [
    "##### 4.1 GARCH(2,1): : Distribuição t-Student"
   ]
  },
  {
   "cell_type": "code",
   "execution_count": null,
   "metadata": {},
   "outputs": [],
   "source": [
    "resid_model_21_tstudent = arch_model(arma_residuals, p=2, q=1, vol='GARCH', dist='t') \n",
    "resid_model_results_21 = resid_model_21_tstudent.fit(update_freq=5)\n",
    "resid_model_results_21.summary()"
   ]
  },
  {
   "cell_type": "markdown",
   "metadata": {},
   "source": [
    "##### 4.1 GARCH(1,2): : Distribuição t-Student"
   ]
  },
  {
   "cell_type": "code",
   "execution_count": null,
   "metadata": {
    "scrolled": false
   },
   "outputs": [],
   "source": [
    "resid_model_12_tstudent =  arch_model(arma_residuals, p=1, q=2,  vol='GARCH', dist='t') \n",
    "resid_model_results_12 = resid_model_12_tstudent.fit(update_freq=5)\n",
    "resid_model_results_12.summary()"
   ]
  },
  {
   "cell_type": "markdown",
   "metadata": {},
   "source": [
    "##### 4.1 GARCH(1,1): Distribuição t-Student skewed"
   ]
  },
  {
   "cell_type": "code",
   "execution_count": null,
   "metadata": {},
   "outputs": [],
   "source": [
    "resid_model_11 = arch_model(arma_residuals, p=1, q=1, vol='GARCH', dist='skewt') \n",
    "resid_model_results_11 = resid_model_11.fit(update_freq=5)\n",
    "resid_model_results_11.summary()"
   ]
  },
  {
   "cell_type": "markdown",
   "metadata": {},
   "source": [
    "##### 4.1 GARCH(2,1): Distribuição t-Student skewed"
   ]
  },
  {
   "cell_type": "code",
   "execution_count": null,
   "metadata": {},
   "outputs": [],
   "source": [
    "resid_model_21 = arch_model(arma_residuals, p=2, q=1, vol='GARCH', dist='skewt') \n",
    "resid_model_results_21 = resid_model_21.fit(update_freq=5)\n",
    "resid_model_results_21.summary()"
   ]
  },
  {
   "cell_type": "markdown",
   "metadata": {},
   "source": [
    "##### 4.1 GARCH(1,2): Distribuição t-Student skewed"
   ]
  },
  {
   "cell_type": "code",
   "execution_count": null,
   "metadata": {
    "scrolled": false
   },
   "outputs": [],
   "source": [
    "resid_model_12 = arch_model(arma_residuals, p=1, q=2, vol='GARCH', dist='skewt') \n",
    "resid_model_results_12 = resid_model_12.fit(update_freq=5)\n",
    "resid_model_results_12.summary()"
   ]
  },
  {
   "cell_type": "markdown",
   "metadata": {},
   "source": [
    "##### 4.2 Teste nos resíduos do modelo GARCH(1,1)"
   ]
  },
  {
   "cell_type": "code",
   "execution_count": null,
   "metadata": {
    "scrolled": false
   },
   "outputs": [],
   "source": [
    "resid_model_11 = arch_model(arma_residuals, p=1, q=1, vol='GARCH', dist='t') \n",
    "resid_model_results_11 = resid_model_11.fit(update_freq=5)\n",
    "resid_model_results_11.summary()"
   ]
  },
  {
   "cell_type": "code",
   "execution_count": null,
   "metadata": {},
   "outputs": [],
   "source": [
    "residuos_garch = resid_model_results_11.resid\n",
    "conditional_volatility = resid_model_results_11.conditional_volatility"
   ]
  },
  {
   "cell_type": "code",
   "execution_count": null,
   "metadata": {},
   "outputs": [],
   "source": [
    "std_resid = residuos_garch / conditional_volatility\n",
    "unit_var_resid = residuos_garch / residuos_garch.std()\n",
    "df = pd.concat([std_resid, unit_var_resid], 1)\n",
    "df.columns = [\"Resíduos padronizados\", \"Resíduos de Variância Unitária\"]\n",
    "subplot = df.plot(kind=\"kde\", xlim=(-4, 4))"
   ]
  },
  {
   "cell_type": "code",
   "execution_count": null,
   "metadata": {},
   "outputs": [],
   "source": [
    "acorr_ljungbox(residuos_garch, return_df = True, lags=[20])"
   ]
  },
  {
   "cell_type": "code",
   "execution_count": null,
   "metadata": {},
   "outputs": [],
   "source": [
    "#Resíduos GARCH\n",
    "plot_acf_and_pacf(residuos_garch, 60)"
   ]
  },
  {
   "cell_type": "code",
   "execution_count": null,
   "metadata": {
    "scrolled": false
   },
   "outputs": [],
   "source": [
    "#Resíduos quadrados padronizados\n",
    "plot_acf_and_pacf(std_resid ** 2, 60)"
   ]
  },
  {
   "cell_type": "code",
   "execution_count": null,
   "metadata": {},
   "outputs": [],
   "source": [
    "acorr_ljungbox(std_resid, lags=[30])"
   ]
  },
  {
   "cell_type": "code",
   "execution_count": null,
   "metadata": {},
   "outputs": [],
   "source": [
    "print(f'O teste ARCH-LM apresentou uma estatística-F de {het_arch(std_resid)[2]}')\n",
    "print(f'O teste ARCH-LM apresentou uma valor-p de {het_arch(std_resid)[3]}')"
   ]
  },
  {
   "cell_type": "markdown",
   "metadata": {},
   "source": [
    "##### 4.3 Volatilidade estimada"
   ]
  },
  {
   "cell_type": "code",
   "execution_count": null,
   "metadata": {
    "scrolled": false
   },
   "outputs": [],
   "source": [
    "fig = resid_model_results_11.plot()"
   ]
  },
  {
   "cell_type": "markdown",
   "metadata": {},
   "source": [
    "### 5.0 Análise"
   ]
  },
  {
   "cell_type": "code",
   "execution_count": 123,
   "metadata": {},
   "outputs": [
    {
     "data": {
      "text/html": [
       "<div>\n",
       "<style scoped>\n",
       "    .dataframe tbody tr th:only-of-type {\n",
       "        vertical-align: middle;\n",
       "    }\n",
       "\n",
       "    .dataframe tbody tr th {\n",
       "        vertical-align: top;\n",
       "    }\n",
       "\n",
       "    .dataframe thead th {\n",
       "        text-align: right;\n",
       "    }\n",
       "</style>\n",
       "<table border=\"1\" class=\"dataframe\">\n",
       "  <thead>\n",
       "    <tr style=\"text-align: right;\">\n",
       "      <th></th>\n",
       "      <th>data</th>\n",
       "      <th>investimento_direto</th>\n",
       "      <th>investimento_carteira</th>\n",
       "    </tr>\n",
       "  </thead>\n",
       "  <tbody>\n",
       "    <tr>\n",
       "      <th>1</th>\n",
       "      <td>1995-01-01 00:00:00</td>\n",
       "      <td>-333.0</td>\n",
       "      <td>901.5</td>\n",
       "    </tr>\n",
       "    <tr>\n",
       "      <th>2</th>\n",
       "      <td>1995-02-01 00:00:00</td>\n",
       "      <td>-95.9</td>\n",
       "      <td>98.6</td>\n",
       "    </tr>\n",
       "    <tr>\n",
       "      <th>3</th>\n",
       "      <td>1995-03-01 00:00:00</td>\n",
       "      <td>88.8</td>\n",
       "      <td>2636.3</td>\n",
       "    </tr>\n",
       "    <tr>\n",
       "      <th>4</th>\n",
       "      <td>1995-04-01 00:00:00</td>\n",
       "      <td>-164.3</td>\n",
       "      <td>57.5</td>\n",
       "    </tr>\n",
       "    <tr>\n",
       "      <th>5</th>\n",
       "      <td>1995-05-01 00:00:00</td>\n",
       "      <td>-299.9</td>\n",
       "      <td>-1373.9</td>\n",
       "    </tr>\n",
       "  </tbody>\n",
       "</table>\n",
       "</div>"
      ],
      "text/plain": [
       "                  data investimento_direto investimento_carteira\n",
       "1  1995-01-01 00:00:00              -333.0                 901.5\n",
       "2  1995-02-01 00:00:00               -95.9                  98.6\n",
       "3  1995-03-01 00:00:00                88.8                2636.3\n",
       "4  1995-04-01 00:00:00              -164.3                  57.5\n",
       "5  1995-05-01 00:00:00              -299.9               -1373.9"
      ]
     },
     "execution_count": 123,
     "metadata": {},
     "output_type": "execute_result"
    }
   ],
   "source": [
    "dados_setor_externo = pd.read_excel('./data/dados_setor_externo.xlsx')\n",
    "dados_setor_externo = dados_setor_externo.iloc[1:]\n",
    "dados_setor_externo.head()"
   ]
  },
  {
   "cell_type": "code",
   "execution_count": 124,
   "metadata": {},
   "outputs": [
    {
     "data": {
      "text/plain": [
       "Text(0.5, 0, 'Anos')"
      ]
     },
     "execution_count": 124,
     "metadata": {},
     "output_type": "execute_result"
    },
    {
     "data": {
      "image/png": "[encoded data removed]",
      "text/plain": [
       "<Figure size 1080x576 with 1 Axes>"
      ]
     },
     "metadata": {},
     "output_type": "display_data"
    }
   ],
   "source": [
    "#Plot\n",
    "sns.lineplot(x = 'data', y='investimento_direto', data = dados_setor_externo )\n",
    "sns.lineplot(x = 'data', y='investimento_carteira', data = dados_setor_externo )\n",
    "plt.legend(['Investimento Direto', 'Investimento em Carteira'])\n",
    "\n",
    "plt.ylabel('Bilhões (R$)')\n",
    "plt.xlabel('Anos')"
   ]
  },
  {
   "cell_type": "code",
   "execution_count": 126,
   "metadata": {
    "scrolled": false
   },
   "outputs": [
    {
     "data": {
      "text/plain": [
       "Text(0.5, 1.0, 'Taxa Selic anualizada')"
      ]
     },
     "execution_count": 126,
     "metadata": {},
     "output_type": "execute_result"
    },
    {
     "data": {
      "image/png": "[encoded data removed]",
      "text/plain": [
       "<Figure size 1080x576 with 1 Axes>"
      ]
     },
     "metadata": {},
     "output_type": "display_data"
    }
   ],
   "source": [
    "dados_selic = pd.read_excel('./data/dados_selic.xlsx')\n",
    "dados_selic['first_value'] = dados_selic.apply(lambda x: x['data'].split(';')[1], axis=1)\n",
    "dados_selic['data'] = dados_selic['data'].apply(lambda x: x.split(';')[0])\n",
    "dados_selic['selic'] = dados_selic.apply(lambda x: str(x['first_value']) + ',' + str(x['selic']).replace('.0', ''), axis=1)\n",
    "dados_selic.drop(columns=['first_value'], inplace=True)\n",
    "dados_selic.drop(index = dados_selic.index[-1], axis=0, inplace=True)\n",
    "dados_selic['selic'] = dados_selic['selic'].apply(lambda x: float(x.replace(',', '.')))\n",
    "dados_selic['data'] = pd.to_datetime(dados_selic['data'])\n",
    "dados_selic = dados_selic.set_index(['data'])\n",
    "dados_selic = dados_selic.resample('Q').max()\n",
    "dados_selic = dados_selic.dropna().reset_index()\n",
    "sns.lineplot(y = 'selic', x= 'data', data=dados_selic)\n",
    "plt.xlabel('Data')\n",
    "plt.ylabel('Taxa Selic (%)')\n",
    "plt.title('Taxa Selic anualizada')"
   ]
  },
  {
   "cell_type": "code",
   "execution_count": null,
   "metadata": {},
   "outputs": [],
   "source": []
  }
 ],
 "metadata": {
  "interpreter": {
   "hash": "e5577b60f7c1166abe90888b52861f5c8d4bd94ce06fe8544023e0a09564399d"
  },
  "kernelspec": {
   "display_name": "Python 3 (ipykernel)",
   "language": "python",
   "name": "python3"
  },
  "language_info": {
   "codemirror_mode": {
    "name": "ipython",
    "version": 3
   },
   "file_extension": ".py",
   "mimetype": "text/x-python",
   "name": "python",
   "nbconvert_exporter": "python",
   "pygments_lexer": "ipython3",
   "version": "3.9.6"
  }
 },
 "nbformat": 4,
 "nbformat_minor": 2
}
